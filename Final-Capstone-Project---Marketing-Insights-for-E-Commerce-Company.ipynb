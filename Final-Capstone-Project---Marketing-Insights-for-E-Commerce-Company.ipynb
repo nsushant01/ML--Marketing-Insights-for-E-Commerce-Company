{
 "cells": [
  {
   "cell_type": "code",
   "execution_count": null,
   "id": "30643d3f",
   "metadata": {},
   "outputs": [],
   "source": [
    "import pandas as pd\n",
    "import numpy as np\n",
    "import matplotlib.pyplot as plt\n",
    "import seaborn as sns\n",
    "import pandas_profiling\n",
    "import datetime as dt\n",
    "%matplotlib inline\n",
    "\n",
    "from sklearn import metrics\n",
    "from sklearn.metrics import mean_absolute_error, mean_squared_error\n",
    "from sklearn.metrics import roc_auc_score, accuracy_score, classification_report, confusion_matrix\n",
    "from sklearn.model_selection import GridSearchCV"
   ]
  },
  {
   "cell_type": "code",
   "execution_count": null,
   "id": "31a63b1e",
   "metadata": {},
   "outputs": [],
   "source": [
    "cust_data = pd.read_excel(\"C:\\Users\\Sushanta Nayak\\OneDrive\\Desktop\\Case Studys\\Machine Learning\\14. Capstone Case Study - Finding-Marketing-Insights\\CustomersData.xlsx\")"
   ]
  },
  {
   "cell_type": "code",
   "execution_count": null,
   "id": "9f56586a",
   "metadata": {},
   "outputs": [],
   "source": [
    "discount_coupon = pd.read_csv(r\"C:\\Users\\Sushanta Nayak\\OneDrive\\Desktop\\Case Studys\\Machine Learning\\14. Capstone Case Study - Finding-Marketing-Insights\\Discount_Coupon.csv\")"
   ]
  },
  {
   "cell_type": "code",
   "execution_count": null,
   "id": "fa33dcb3",
   "metadata": {},
   "outputs": [],
   "source": [
    "marketing_spend = pd.read_csv(r\"C:\\Users\\Sushanta Nayak\\OneDrive\\Desktop\\Case Studys\\Machine Learning\\14. Capstone Case Study - Finding-Marketing-Insights\\Marketing_Spend.csv\")"
   ]
  },
  {
   "cell_type": "code",
   "execution_count": null,
   "id": "b5e601a9",
   "metadata": {},
   "outputs": [],
   "source": [
    "online_sales = pd.read_csv(r\"C:\\Users\\Sushanta Nayak\\OneDrive\\Desktop\\Case Studys\\Machine Learning\\14. Capstone Case Study - Finding-Marketing-Insights\\Online_Sales.csv\")"
   ]
  },
  {
   "cell_type": "code",
   "execution_count": null,
   "id": "c60d4d72",
   "metadata": {},
   "outputs": [],
   "source": [
    "tax_amt = pd.read_excel(\"C:\\Users\\Sushanta Nayak\\OneDrive\\Desktop\\Case Studys\\Machine Learning\\14. Capstone Case Study - Finding-Marketing-Insights\\Tax_amount.xlsx\")"
   ]
  },
  {
   "cell_type": "code",
   "execution_count": null,
   "id": "8c1e139f",
   "metadata": {},
   "outputs": [],
   "source": [
    "cust_data.head(2)"
   ]
  },
  {
   "cell_type": "code",
   "execution_count": null,
   "id": "00735890",
   "metadata": {},
   "outputs": [],
   "source": [
    "cust_data.info()"
   ]
  },
  {
   "cell_type": "code",
   "execution_count": null,
   "id": "3df42ec7",
   "metadata": {},
   "outputs": [],
   "source": [
    "discount_coupon.head(2)"
   ]
  },
  {
   "cell_type": "code",
   "execution_count": null,
   "id": "38d20c65",
   "metadata": {},
   "outputs": [],
   "source": [
    "# removing space from columns name\n",
    "discount_coupon.columns = discount_coupon.columns.str.replace(' ', '')"
   ]
  },
  {
   "cell_type": "code",
   "execution_count": null,
   "id": "811d9c9f",
   "metadata": {},
   "outputs": [],
   "source": [
    "discount_coupon.info()"
   ]
  },
  {
   "cell_type": "code",
   "execution_count": null,
   "id": "b788e441",
   "metadata": {},
   "outputs": [],
   "source": [
    "marketing_spend.head(2)"
   ]
  },
  {
   "cell_type": "code",
   "execution_count": null,
   "id": "5228478a",
   "metadata": {},
   "outputs": [],
   "source": [
    "marketing_spend.info()"
   ]
  },
  {
   "cell_type": "code",
   "execution_count": null,
   "id": "10f2c35f",
   "metadata": {},
   "outputs": [],
   "source": [
    "online_sales.head(2)"
   ]
  },
  {
   "cell_type": "code",
   "execution_count": null,
   "id": "b25c543f",
   "metadata": {},
   "outputs": [],
   "source": [
    "# Changing Transaction_Date to datetime format\n",
    "\n",
    "online_sales['Transaction_Date'] = pd.to_datetime(online_sales.Transaction_Date , format= '%Y%m%d' )\n",
    "online_sales['Month'] = online_sales['Transaction_Date'].apply(lambda x : pd.Timestamp.strftime(x, format = '%b'))\n",
    "online_sales.head(2)"
   ]
  },
  {
   "cell_type": "code",
   "execution_count": null,
   "id": "5a7dba30",
   "metadata": {},
   "outputs": [],
   "source": [
    "online_sales.info()"
   ]
  },
  {
   "cell_type": "code",
   "execution_count": null,
   "id": "a55d056e",
   "metadata": {},
   "outputs": [],
   "source": [
    "tax_amt.head(2)"
   ]
  },
  {
   "cell_type": "code",
   "execution_count": null,
   "id": "ab8e3aff",
   "metadata": {},
   "outputs": [],
   "source": [
    "tax_amt.info()"
   ]
  },
  {
   "cell_type": "code",
   "execution_count": null,
   "id": "371e3a07",
   "metadata": {},
   "outputs": [],
   "source": [
    "# merging the data\n",
    "\n",
    "online_sales1 = pd.merge(online_sales , tax_amt , how = 'left',  left_on= 'Product_Category', right_on='Product_Category')\n",
    "online_sales2 = pd.merge(online_sales1 , cust_data, how = 'left',  left_on= 'CustomerID', right_on='CustomerID')\n",
    "final_data = pd.merge(online_sales2 , discount_coupon, how = 'left', on= ['Month','Product_Category'])"
   ]
  },
  {
   "cell_type": "code",
   "execution_count": null,
   "id": "cad14855",
   "metadata": {},
   "outputs": [],
   "source": [
    "final_data.head()"
   ]
  },
  {
   "cell_type": "markdown",
   "id": "b00fe58c",
   "metadata": {},
   "source": [
    "## 1. Calculating Invoice amount\n"
   ]
  },
  {
   "cell_type": "code",
   "execution_count": null,
   "id": "3da328f7",
   "metadata": {},
   "outputs": [],
   "source": [
    "final_data['Invoice_amt'] = ((final_data.Quantity*final_data.Avg_Price)*((1-final_data.Discount_pct/100))*(1+final_data.GST))+final_data.Delivery_Charges"
   ]
  },
  {
   "cell_type": "code",
   "execution_count": null,
   "id": "d8598818",
   "metadata": {},
   "outputs": [],
   "source": [
    "final_data['Sales_amt'] = ((final_data.Quantity*final_data.Avg_Price)*((1-final_data.Discount_pct/100)))"
   ]
  },
  {
   "cell_type": "code",
   "execution_count": null,
   "id": "cc388090",
   "metadata": {},
   "outputs": [],
   "source": [
    "final_data.head(2)"
   ]
  },
  {
   "cell_type": "markdown",
   "id": "922aa7ca",
   "metadata": {},
   "source": [
    "## 2. Exploratory Analysis\n"
   ]
  },
  {
   "cell_type": "markdown",
   "id": "70af0911",
   "metadata": {},
   "source": [
    "#### • Understanding how many new customers acquired every month\n"
   ]
  },
  {
   "cell_type": "code",
   "execution_count": null,
   "id": "6d2feb89",
   "metadata": {},
   "outputs": [],
   "source": [
    "final_data['Year_month'] = final_data.Transaction_Date.apply(lambda x: pd.Timestamp.strftime(x , format = \"%Y-%m\"))"
   ]
  },
  {
   "cell_type": "code",
   "execution_count": null,
   "id": "6e7a4870",
   "metadata": {},
   "outputs": [],
   "source": [
    "cust_month = final_data.loc[:, ['CustomerID', 'Year_month']] "
   ]
  },
  {
   "cell_type": "code",
   "execution_count": null,
   "id": "0081c280",
   "metadata": {},
   "outputs": [],
   "source": [
    "cust_month.drop_duplicates(subset='CustomerID' , inplace= True)"
   ]
  },
  {
   "cell_type": "code",
   "execution_count": null,
   "id": "ff84e826",
   "metadata": {},
   "outputs": [],
   "source": [
    "new_cust_monthly = cust_month.groupby('Year_month')[['CustomerID']].count()\n",
    "new_cust_monthly.head(2)"
   ]
  },
  {
   "cell_type": "code",
   "execution_count": null,
   "id": "4b624d09",
   "metadata": {},
   "outputs": [],
   "source": [
    "new_cust_monthly.plot( kind = 'bar', figsize = (18,8))\n",
    "plt.ylabel('count of customers')\n",
    "plt.title('New customers acquired every month')\n",
    "plt.show()"
   ]
  },
  {
   "cell_type": "code",
   "execution_count": null,
   "id": "b37a5afe",
   "metadata": {},
   "outputs": [],
   "source": [
    "cust_monthly_cnt = final_data.groupby('Year_month')[['CustomerID']].count().reset_index()\n",
    "cust_monthly_cnt.head(2)"
   ]
  },
  {
   "cell_type": "code",
   "execution_count": null,
   "id": "92de7905",
   "metadata": {},
   "outputs": [],
   "source": [
    "retented_cust_monthly = pd.merge(new_cust_monthly , cust_monthly_cnt , how= 'left' , on =\"Year_month\")\n",
    "retented_cust_monthly.head(2)"
   ]
  },
  {
   "cell_type": "code",
   "execution_count": null,
   "id": "e82f53e7",
   "metadata": {},
   "outputs": [],
   "source": [
    "retented_cust_monthly['retented_cust'] = retented_cust_monthly.CustomerID_y - retented_cust_monthly.CustomerID_x\n",
    "retented_cust_monthly.head(2)"
   ]
  },
  {
   "cell_type": "code",
   "execution_count": null,
   "id": "c963a2c0",
   "metadata": {},
   "outputs": [],
   "source": [
    "retented_cust_monthly.plot(kind= 'bar', x= 'Year_month' , y = 'retented_cust' , figsize = (16,6))\n",
    "plt.ylabel('count of customers')\n",
    "plt.title('Retention of customers on month on month basis')\n",
    "plt.show()"
   ]
  },
  {
   "cell_type": "code",
   "execution_count": null,
   "id": "2c7eab40",
   "metadata": {},
   "outputs": [],
   "source": [
    "rev_mouth = final_data.groupby('Year_month')[['Sales_amt']].sum()\n",
    "rev_mouth.head(2)"
   ]
  },
  {
   "cell_type": "code",
   "execution_count": null,
   "id": "cf354f7d",
   "metadata": {},
   "outputs": [],
   "source": [
    "rev_mouth.plot( kind = 'bar', figsize =(16,6))\n",
    "plt.ylabel('Total Amount')\n",
    "plt.title('Total Revenue on month on month basis')\n",
    "plt.show()"
   ]
  },
  {
   "cell_type": "markdown",
   "id": "5f647ec2",
   "metadata": {},
   "source": [
    "### • How the revenue from new customer on monthly bases\n"
   ]
  },
  {
   "cell_type": "code",
   "execution_count": null,
   "id": "7e2855ff",
   "metadata": {},
   "outputs": [],
   "source": [
    "cust_month_invoice = final_data.loc[:, ['CustomerID', 'Year_month', 'Sales_amt']] "
   ]
  },
  {
   "cell_type": "code",
   "execution_count": null,
   "id": "627d35c1",
   "metadata": {},
   "outputs": [],
   "source": [
    "cust_month_invoice.drop_duplicates(subset='CustomerID' , inplace= True)"
   ]
  },
  {
   "cell_type": "code",
   "execution_count": null,
   "id": "8cf45fe2",
   "metadata": {},
   "outputs": [],
   "source": [
    "new_cust_rev_monthly = cust_month_invoice.groupby('Year_month')[['Sales_amt']].sum()\n",
    "new_cust_rev_monthly.head(2)"
   ]
  },
  {
   "cell_type": "code",
   "execution_count": null,
   "id": "b327ec51",
   "metadata": {},
   "outputs": [],
   "source": [
    "new_cust_rev_monthly.plot( kind = 'bar', figsize = (18,5))\n",
    "plt.ylabel('Revenue')\n",
    "plt.title('New customers revenue every month')\n",
    "plt.show()"
   ]
  },
  {
   "cell_type": "markdown",
   "id": "4ca710c7",
   "metadata": {},
   "source": [
    "### • How the discount playing the role in revenue?\n"
   ]
  },
  {
   "cell_type": "code",
   "execution_count": null,
   "id": "4d29660f",
   "metadata": {},
   "outputs": [],
   "source": [
    "final_data.head(2)"
   ]
  },
  {
   "cell_type": "code",
   "execution_count": null,
   "id": "67be9663",
   "metadata": {},
   "outputs": [],
   "source": [
    "discount_rev = final_data.groupby('Discount_pct')[['Sales_amt']].sum()\n",
    "discount_rev.head(2)"
   ]
  },
  {
   "cell_type": "code",
   "execution_count": null,
   "id": "d01dbcad",
   "metadata": {},
   "outputs": [],
   "source": [
    "discount_rev.plot( kind = 'bar', figsize = (10,5))\n",
    "plt.ylabel('Revenue')\n",
    "plt.show()"
   ]
  },
  {
   "cell_type": "markdown",
   "id": "9acdbf4b",
   "metadata": {},
   "source": [
    "### • Understand the trends/seasonality of sales, quantity by category, month, week, day,etc…\n"
   ]
  },
  {
   "cell_type": "code",
   "execution_count": null,
   "id": "a5487096",
   "metadata": {},
   "outputs": [],
   "source": [
    "# Seasonality of sales, quantity by month.\n",
    "cat_qty_sales = final_data.groupby('Year_month').agg({'Quantity':'sum',\n",
    "                                                       'Sales_amt': 'sum'}).reset_index().rename(columns={'Sales_amt':'sales'})\n",
    "round(cat_qty_sales,2)"
   ]
  },
  {
   "cell_type": "code",
   "execution_count": null,
   "id": "b9309182",
   "metadata": {},
   "outputs": [],
   "source": [
    "marketing_spend.head(2)"
   ]
  },
  {
   "cell_type": "code",
   "execution_count": null,
   "id": "f9a4bce1",
   "metadata": {},
   "outputs": [],
   "source": [
    "marketing_spend.info()"
   ]
  },
  {
   "cell_type": "code",
   "execution_count": null,
   "id": "7adb1371",
   "metadata": {},
   "outputs": [],
   "source": [
    "marketing_spend['Date'] = pd.to_datetime(marketing_spend.Date , format= '%m/%d/%Y' )"
   ]
  },
  {
   "cell_type": "code",
   "execution_count": null,
   "id": "37bbe0d5",
   "metadata": {},
   "outputs": [],
   "source": [
    "marketing_spend['Year_month'] = marketing_spend.Date.apply(lambda x: pd.Timestamp.strftime(x , format = \"%Y-%m\"))"
   ]
  },
  {
   "cell_type": "code",
   "execution_count": null,
   "id": "24126569",
   "metadata": {},
   "outputs": [],
   "source": [
    "marketing_spend['Total_spend'] = marketing_spend.Offline_Spend + marketing_spend.Online_Spend"
   ]
  },
  {
   "cell_type": "code",
   "execution_count": null,
   "id": "07613e12",
   "metadata": {},
   "outputs": [],
   "source": [
    "marketing_spend.head(2)"
   ]
  },
  {
   "cell_type": "code",
   "execution_count": null,
   "id": "ae861507",
   "metadata": {},
   "outputs": [],
   "source": [
    "montly_spend = marketing_spend.groupby('Year_month')['Total_spend'].sum().reset_index()\n",
    "montly_spend.head(2)"
   ]
  },
  {
   "cell_type": "code",
   "execution_count": null,
   "id": "57f9e286",
   "metadata": {},
   "outputs": [],
   "source": [
    "montly_rev = final_data.groupby('Year_month')['Sales_amt'].sum().reset_index()\n",
    "montly_rev.head(2)"
   ]
  },
  {
   "cell_type": "code",
   "execution_count": null,
   "id": "0b71929b",
   "metadata": {},
   "outputs": [],
   "source": [
    "pd.merge(montly_spend, montly_rev, how = 'left', on='Year_month' )"
   ]
  },
  {
   "cell_type": "code",
   "execution_count": null,
   "id": "ffac6038",
   "metadata": {},
   "outputs": [],
   "source": [
    "plt.figure(figsize= (15,8))\n",
    "plt.plot(montly_rev.Year_month, montly_rev.Sales_amt,   label = 'Revenue', marker='o', linewidth=3)\n",
    "plt.plot(montly_spend.Year_month, montly_spend.Total_spend,   label = 'Spend',  marker='o', linewidth=3)\n",
    "\n",
    "plt.xlabel('Month Number')\n",
    "plt.legend(loc='upper left')\n",
    "plt.show()"
   ]
  },
  {
   "cell_type": "markdown",
   "id": "c8dc8f0d",
   "metadata": {},
   "source": [
    "### • Which product was purchased most based on the quantity?\n"
   ]
  },
  {
   "cell_type": "code",
   "execution_count": null,
   "id": "63a384c4",
   "metadata": {},
   "outputs": [],
   "source": [
    "prod_qty = final_data.groupby('Product_Category')['Quantity'].sum().reset_index()"
   ]
  },
  {
   "cell_type": "code",
   "execution_count": null,
   "id": "3fc0dcfa",
   "metadata": {},
   "outputs": [],
   "source": [
    "prod_qty.sort_values(by='Quantity', ascending=False).head(1)\n"
   ]
  },
  {
   "cell_type": "markdown",
   "id": "285855c6",
   "metadata": {},
   "source": [
    "## 3.Performing Customer Segmentation\n"
   ]
  },
  {
   "cell_type": "code",
   "execution_count": null,
   "id": "7eb38390",
   "metadata": {},
   "outputs": [],
   "source": [
    "final_data.head(2)"
   ]
  },
  {
   "cell_type": "code",
   "execution_count": null,
   "id": "7f620a84",
   "metadata": {},
   "outputs": [],
   "source": [
    "# Setting a date to extract recency \n",
    "\n",
    "date = dt.datetime(2020, 2, 20)"
   ]
  },
  {
   "cell_type": "code",
   "execution_count": null,
   "id": "74871152",
   "metadata": {},
   "outputs": [],
   "source": [
    "cust_mf = final_data.groupby('CustomerID').agg({'Transaction_ID':'count',\n",
    "                                                'Sales_amt':'sum'}).reset_index().rename(columns={'Transaction_ID': 'frequency', 'Sales_amt': 'monetary'})\n",
    "cust_mf"
   ]
  },
  {
   "cell_type": "code",
   "execution_count": null,
   "id": "7ddc5f6b",
   "metadata": {},
   "outputs": [],
   "source": [
    "cust_recency = final_data.loc[:,['CustomerID','Transaction_Date']]"
   ]
  },
  {
   "cell_type": "code",
   "execution_count": null,
   "id": "9706f1bb",
   "metadata": {},
   "outputs": [],
   "source": [
    "cust_recency = cust_recency.drop_duplicates(subset='CustomerID', keep='last')"
   ]
  },
  {
   "cell_type": "code",
   "execution_count": null,
   "id": "bf75d3a5",
   "metadata": {},
   "outputs": [],
   "source": [
    "cust_recency['recency'] = (date - cust_recency.Transaction_Date).dt.days"
   ]
  },
  {
   "cell_type": "code",
   "execution_count": null,
   "id": "43d8af2c",
   "metadata": {},
   "outputs": [],
   "source": [
    "seg_df = pd.merge(cust_recency, cust_mf, how= 'right', on= 'CustomerID')"
   ]
  },
  {
   "cell_type": "code",
   "execution_count": null,
   "id": "46121c17",
   "metadata": {},
   "outputs": [],
   "source": [
    "seg_df.drop(columns='Transaction_Date', inplace=True)\n",
    "seg_df.head()"
   ]
  },
  {
   "cell_type": "markdown",
   "id": "475467ea",
   "metadata": {},
   "source": [
    "## Value based segmentation\n"
   ]
  },
  {
   "cell_type": "code",
   "execution_count": null,
   "id": "b697796f",
   "metadata": {},
   "outputs": [],
   "source": [
    "# creating Deciles\n",
    "\n",
    "seg_df['decile'] = pd.qcut(seg_df['monetary'], 10, labels=False)"
   ]
  },
  {
   "cell_type": "code",
   "execution_count": null,
   "id": "82e982e3",
   "metadata": {},
   "outputs": [],
   "source": [
    "seg_df.head()"
   ]
  },
  {
   "cell_type": "code",
   "execution_count": null,
   "id": "3133ffcd",
   "metadata": {},
   "outputs": [],
   "source": [
    "seg_df.decile.value_counts()"
   ]
  },
  {
   "cell_type": "code",
   "execution_count": null,
   "id": "cce9f619",
   "metadata": {},
   "outputs": [],
   "source": [
    "# Key performace variable selection\n",
    "col_kpi=['monetary','recency','frequency']"
   ]
  },
  {
   "cell_type": "code",
   "execution_count": null,
   "id": "1eff0b72",
   "metadata": {},
   "outputs": [],
   "source": [
    "#Profiling\n",
    "VB_Profiling=seg_df.groupby(['decile']).apply(lambda x: x[col_kpi].mean())"
   ]
  },
  {
   "cell_type": "code",
   "execution_count": null,
   "id": "ef63e427",
   "metadata": {},
   "outputs": [],
   "source": [
    "VB_Profiling.T"
   ]
  },
  {
   "cell_type": "code",
   "execution_count": null,
   "id": "b633a808",
   "metadata": {},
   "outputs": [],
   "source": [
    "profiling_output = VB_Profiling.T"
   ]
  },
  {
   "cell_type": "code",
   "execution_count": null,
   "id": "85978408",
   "metadata": {},
   "outputs": [],
   "source": [
    "profiling_output"
   ]
  },
  {
   "cell_type": "markdown",
   "id": "21e629b9",
   "metadata": {},
   "source": [
    "## RFM SEGMENTATION\n"
   ]
  },
  {
   "cell_type": "code",
   "execution_count": null,
   "id": "2ef6e399",
   "metadata": {},
   "outputs": [],
   "source": [
    "# Creating quartiles\n",
    "\n",
    "quantiles = seg_df[['frequency','monetary','recency' ]].quantile(q=[0.25,0.5,0.75])\n",
    "quantiles"
   ]
  },
  {
   "cell_type": "code",
   "execution_count": null,
   "id": "ee016bc9",
   "metadata": {},
   "outputs": [],
   "source": [
    "quantiles = quantiles.to_dict()\n",
    "quantiles"
   ]
  },
  {
   "cell_type": "code",
   "execution_count": null,
   "id": "3392abd2",
   "metadata": {},
   "outputs": [],
   "source": [
    "#We create two classes for the RFM segmentation since, being high recency is bad, while high frequency and monetary value is good.\n",
    "# Arguments (x = value, p = recency, monetary_value, frequency, k = quartiles dict)\n",
    "def RClass(x,p,d):\n",
    "    if x <= d[p][0.25]:\n",
    "        return 1\n",
    "    elif x <= d[p][0.50]:\n",
    "        return 2\n",
    "    elif x <= d[p][0.75]: \n",
    "        return 3\n",
    "    else:\n",
    "        return 4\n",
    "    \n",
    "# Arguments (x = value, p = recency, monetary_value, frequency, k = quartiles dict)\n",
    "def FMClass(x,p,d):\n",
    "    if x <= d[p][0.25]:\n",
    "        return 4\n",
    "    elif x <= d[p][0.50]:\n",
    "        return 3\n",
    "    elif x <= d[p][0.75]: \n",
    "        return 2\n",
    "    else:\n",
    "        return 1"
   ]
  },
  {
   "cell_type": "code",
   "execution_count": null,
   "id": "134fd6a8",
   "metadata": {},
   "outputs": [],
   "source": [
    "seg_df['R_Quartile'] = seg_df['recency'].apply(RClass, args=('recency',quantiles,))\n",
    "seg_df['F_Quartile'] = seg_df['frequency'].apply(FMClass, args=('frequency',quantiles,))\n",
    "seg_df['M_Quartile'] = seg_df['monetary'].apply(FMClass, args=('monetary',quantiles,))"
   ]
  },
  {
   "cell_type": "code",
   "execution_count": null,
   "id": "bd326be0",
   "metadata": {},
   "outputs": [],
   "source": [
    "seg_df.head()"
   ]
  },
  {
   "cell_type": "code",
   "execution_count": null,
   "id": "45c454fd",
   "metadata": {},
   "outputs": [],
   "source": [
    "seg_df1=seg_df.assign(R_seg=np.nan, FM_seg =np.nan)\n",
    "seg_df1.R_seg[seg_df['R_Quartile']==4] = \"3_Churn\"\n",
    "seg_df1.R_seg[seg_df['R_Quartile']==2] = \"2_At_Risk\"\n",
    "seg_df1.R_seg[seg_df['R_Quartile']==3] = \"2_At_Risk\"\n",
    "seg_df1.R_seg[seg_df['R_Quartile']==1] = \"1_Active\"\n",
    "\n",
    "seg_df1.FM_seg[(seg_df['F_Quartile']==3) & (seg_df['M_Quartile']==1)] = \"2_Gold\"\n",
    "seg_df1.FM_seg[(seg_df['F_Quartile']==4) & (seg_df['M_Quartile']==1)] = \"2_Gold\"\n",
    "seg_df1.FM_seg[(seg_df['F_Quartile']==2) & (seg_df['M_Quartile']==2)] = \"2_Gold\"\n",
    "seg_df1.FM_seg[(seg_df['F_Quartile']==2) & (seg_df['M_Quartile']==1)] = \"2_Gold\"\n",
    "seg_df1.FM_seg[(seg_df['F_Quartile']==3) & (seg_df['M_Quartile']==2)] = \"2_Gold\"\n",
    "seg_df1.FM_seg[(seg_df['F_Quartile']==4) & (seg_df['M_Quartile']==2)] = \"1_Silver\"\n",
    "seg_df1.FM_seg[(seg_df['F_Quartile']==1) & (seg_df['M_Quartile']==3)] = \"2_Gold\"\n",
    "seg_df1.FM_seg[(seg_df['F_Quartile']==2) & (seg_df['M_Quartile']==3)] = \"2_Gold\"\n",
    "seg_df1.FM_seg[(seg_df['F_Quartile']==3) & (seg_df['M_Quartile']==3)] = \"1_Silver\"\n",
    "seg_df1.FM_seg[(seg_df['F_Quartile']==4) & (seg_df['M_Quartile']==3)] = \"1_Silver\"\n",
    "seg_df1.FM_seg[(seg_df['F_Quartile']==1) & (seg_df['M_Quartile']==4)] = \"2_Gold\"\n",
    "seg_df1.FM_seg[(seg_df['F_Quartile']==1) & (seg_df['M_Quartile']==2)] = \"2_Gold\"\n",
    "seg_df1.FM_seg[(seg_df['F_Quartile']==2) & (seg_df['M_Quartile']==4)] = \"1_Silver\"\n",
    "seg_df1.FM_seg[(seg_df['F_Quartile']==3) & (seg_df['M_Quartile']==4)] = \"1_Silver\"\n",
    "seg_df1.FM_seg[(seg_df['F_Quartile']==4) & (seg_df['M_Quartile']==4)] = \"0_Standard\"\n",
    "\n",
    "seg_df1.FM_seg.fillna(\"4_Premium\", inplace=True)"
   ]
  },
  {
   "cell_type": "code",
   "execution_count": null,
   "id": "d8f46f92",
   "metadata": {},
   "outputs": [],
   "source": [
    "seg_df1.head(5)"
   ]
  },
  {
   "cell_type": "code",
   "execution_count": null,
   "id": "6f462fe2",
   "metadata": {},
   "outputs": [],
   "source": [
    "# Key performace variable selection\n",
    "col_kpi=['monetary','recency','frequency']"
   ]
  },
  {
   "cell_type": "code",
   "execution_count": null,
   "id": "43a9b855",
   "metadata": {},
   "outputs": [],
   "source": [
    "#Profiling\n",
    "Profiling=seg_df1.groupby(['R_seg', 'FM_seg']).apply(lambda x: x[col_kpi].mean()).T"
   ]
  },
  {
   "cell_type": "code",
   "execution_count": null,
   "id": "85ec1aeb",
   "metadata": {},
   "outputs": [],
   "source": [
    "#Need to retrive Premium customers who are churn now\n",
    "\n",
    "seg_df1[((seg_df1.R_seg ==\"3.Churn\") & (seg_df1.FM_seg ==\"4.Premium\")) ]"
   ]
  },
  {
   "cell_type": "markdown",
   "id": "3a154a68",
   "metadata": {},
   "source": [
    "### Scientific (using K-means)\n"
   ]
  },
  {
   "cell_type": "code",
   "execution_count": null,
   "id": "26b3141f",
   "metadata": {},
   "outputs": [],
   "source": [
    "import scipy.stats as stats\n",
    "from sklearn.cluster import KMeans\n",
    "from sklearn.metrics import silhouette_score\n",
    "from sklearn.preprocessing import StandardScaler, MinMaxScaler\n",
    "from sklearn.decomposition import PCA  "
   ]
  },
  {
   "cell_type": "code",
   "execution_count": null,
   "id": "4244dfcc",
   "metadata": {},
   "outputs": [],
   "source": [
    "seg_df2 = seg_df.loc[:,['recency','frequency','monetary']]\n",
    "seg_df2.head()"
   ]
  },
  {
   "cell_type": "code",
   "execution_count": null,
   "id": "f414019e",
   "metadata": {},
   "outputs": [],
   "source": [
    "#standardize the data\n",
    "\n",
    "sc = StandardScaler()\n",
    "sc = sc.fit(seg_df2)\n",
    "seg_df2_std = pd.DataFrame(sc.transform(seg_df2), columns = seg_df2.columns)\n",
    "seg_df2_std.head(2)"
   ]
  },
  {
   "cell_type": "code",
   "execution_count": null,
   "id": "651975e2",
   "metadata": {},
   "outputs": [],
   "source": [
    "#KMeans Clustering   input: standardized data, number of cluster\n",
    "km_3 = KMeans(n_clusters=3, random_state=123).fit(seg_df2)\n",
    "km_4 = KMeans(n_clusters=4, random_state=123).fit(seg_df2)\n",
    "km_5 = KMeans(n_clusters=5, random_state=123).fit(seg_df2)\n",
    "km_6 = KMeans(n_clusters=6, random_state=123).fit(seg_df2)\n",
    "km_7 = KMeans(n_clusters=7, random_state=123).fit(seg_df2)\n",
    "km_8 = KMeans(n_clusters=8, random_state=123).fit(seg_df2)"
   ]
  },
  {
   "cell_type": "code",
   "execution_count": null,
   "id": "142c2017",
   "metadata": {},
   "outputs": [],
   "source": [
    "seg_df2_std['Cluster_3'] = km_3.labels_\n",
    "seg_df2_std['Cluster_4'] = km_4.labels_\n",
    "seg_df2_std['Cluster_5'] = km_5.labels_\n",
    "seg_df2_std['Cluster_6'] = km_6.labels_\n",
    "seg_df2_std['Cluster_7'] = km_7.labels_\n",
    "seg_df2_std['Cluster_8'] = km_8.labels_"
   ]
  },
  {
   "cell_type": "code",
   "execution_count": null,
   "id": "73752104",
   "metadata": {},
   "outputs": [],
   "source": [
    "print('km_3 =',silhouette_score(seg_df2_std, km_3.labels_))\n",
    "print('km_4 =',silhouette_score(seg_df2_std, km_4.labels_))\n",
    "print('km_5 =',silhouette_score(seg_df2_std, km_5.labels_))\n",
    "print('km_6 =',silhouette_score(seg_df2_std, km_6.labels_))\n",
    "print('km_7 =',silhouette_score(seg_df2_std, km_7.labels_))\n",
    "print('km_8 =',silhouette_score(seg_df2_std, km_8.labels_))"
   ]
  },
  {
   "cell_type": "code",
   "execution_count": null,
   "id": "00cef167",
   "metadata": {},
   "outputs": [],
   "source": [
    "km_3 = 0.289992952858392\n",
    "km_4 = 0.28820928306705296\n",
    "km_5 = 0.4619249999257478\n",
    "km_6 = 0.4638350257297312\n",
    "km_7 = 0.6547680206859893\n",
    "km_8 = 0.6513134752259635"
   ]
  },
  {
   "cell_type": "code",
   "execution_count": null,
   "id": "a3338d3f",
   "metadata": {},
   "outputs": [],
   "source": [
    "predect_seg = pd.DataFrame(seg_df2_std.Cluster_4 ).rename(columns={'Cluster_4':'Pred_seg'})\n",
    "predect_seg"
   ]
  },
  {
   "cell_type": "code",
   "execution_count": null,
   "id": "4dbcded1",
   "metadata": {},
   "outputs": [],
   "source": [
    "seg_kmeans = pd.concat([seg_df, predect_seg], axis=1)\n",
    "seg_kmeans.drop(columns = ['decile','R_Quartile','F_Quartile','M_Quartile'], axis=1,inplace = True)"
   ]
  },
  {
   "cell_type": "markdown",
   "id": "d1e1c788",
   "metadata": {},
   "source": [
    "## 4. Predicting customers lifetime value"
   ]
  },
  {
   "cell_type": "code",
   "execution_count": null,
   "id": "0fb68645",
   "metadata": {},
   "outputs": [],
   "source": [
    "# Calculating Average Customer Lifespan in days\n",
    "\n",
    "cust_month = final_data[['CustomerID','Transaction_Date']]"
   ]
  },
  {
   "cell_type": "code",
   "execution_count": null,
   "id": "5a93f2f0",
   "metadata": {},
   "outputs": [],
   "source": [
    "cust_month1 = cust_month.groupby('CustomerID')['Transaction_Date'].min().reset_index()\n",
    "cust_month2 = cust_month.groupby('CustomerID')['Transaction_Date'].max().reset_index()"
   ]
  },
  {
   "cell_type": "code",
   "execution_count": null,
   "id": "dd2c6867",
   "metadata": {},
   "outputs": [],
   "source": [
    "cust_month3 = pd.merge(cust_month1, cust_month2, on='CustomerID' ,how= 'left')"
   ]
  },
  {
   "cell_type": "code",
   "execution_count": null,
   "id": "2135595b",
   "metadata": {},
   "outputs": [],
   "source": [
    "cust_month3['days_diff'] = (cust_month3.Transaction_Date_y- cust_month3.Transaction_Date_x).dt.days"
   ]
  },
  {
   "cell_type": "code",
   "execution_count": null,
   "id": "4deddca9",
   "metadata": {},
   "outputs": [],
   "source": [
    "# Average Customer Lifespan \n",
    "\n",
    "ACL = cust_month3.days_diff.mean()/ cust_month3.CustomerID.count()\n",
    "ACL"
   ]
  },
  {
   "cell_type": "code",
   "execution_count": null,
   "id": "c5f3c839",
   "metadata": {},
   "outputs": [],
   "source": [
    "cust_data.head(2)"
   ]
  },
  {
   "cell_type": "code",
   "execution_count": null,
   "id": "0cc40dc1",
   "metadata": {},
   "outputs": [],
   "source": [
    "seg_df1.head(2)"
   ]
  },
  {
   "cell_type": "code",
   "execution_count": null,
   "id": "a58a70fe",
   "metadata": {},
   "outputs": [],
   "source": [
    "cust_rev = seg_df1"
   ]
  },
  {
   "cell_type": "code",
   "execution_count": null,
   "id": "56741f1c",
   "metadata": {},
   "outputs": [],
   "source": [
    "cust_rev.rename(columns={'monetary': 'Revenue'}, inplace=True)"
   ]
  },
  {
   "cell_type": "code",
   "execution_count": null,
   "id": "c404759f",
   "metadata": {},
   "outputs": [],
   "source": [
    "# CLTV is customer lifetime value\n",
    "cust_rev['CLTV'] = cust_rev.Revenue * ACL"
   ]
  },
  {
   "cell_type": "code",
   "execution_count": null,
   "id": "3c8a32ba",
   "metadata": {},
   "outputs": [],
   "source": [
    "def lifetime_value (x):\n",
    "    if x.CLTV < 50 :\n",
    "        return 2\n",
    "    elif x.CLTV < 200:\n",
    "        return 1\n",
    "    else :\n",
    "        return 0\n",
    "    \n",
    "# High value = 1\n",
    "# Medium value = 2\n",
    "# Low value = 3"
   ]
  },
  {
   "cell_type": "code",
   "execution_count": null,
   "id": "a61b49b8",
   "metadata": {},
   "outputs": [],
   "source": [
    "cust_rev['CLTV'] = cust_rev.apply(lifetime_value, axis=1)"
   ]
  },
  {
   "cell_type": "code",
   "execution_count": null,
   "id": "23cd796b",
   "metadata": {},
   "outputs": [],
   "source": [
    "cust_rev"
   ]
  },
  {
   "cell_type": "code",
   "execution_count": null,
   "id": "6b68a980",
   "metadata": {},
   "outputs": [],
   "source": [
    "cust_rev.CLTV.value_counts()"
   ]
  },
  {
   "cell_type": "code",
   "execution_count": null,
   "id": "91c868e6",
   "metadata": {},
   "outputs": [],
   "source": [
    "cust_data_new = pd.merge(cust_data,cust_rev, how='left' ,on='CustomerID')\n",
    "cust_data_new"
   ]
  },
  {
   "cell_type": "code",
   "execution_count": null,
   "id": "ddc685e6",
   "metadata": {},
   "outputs": [],
   "source": [
    "# Creating dummie variables\n",
    "cust_data_new = pd.get_dummies(cust_data_new, columns=['Location'], drop_first=True, prefix='Location')\n",
    "cust_data_new = pd.get_dummies(cust_data_new, columns=['Gender'], drop_first=True, prefix='Gender')\n",
    "cust_data_new = pd.get_dummies(cust_data_new, columns=['R_seg'], drop_first=True, prefix='R_seg')\n",
    "cust_data_new = pd.get_dummies(cust_data_new, columns=['FM_seg'], drop_first=True, prefix='FM_seg')"
   ]
  },
  {
   "cell_type": "code",
   "execution_count": null,
   "id": "d74dc28a",
   "metadata": {},
   "outputs": [],
   "source": [
    "cust_data_new.head(2)"
   ]
  },
  {
   "cell_type": "markdown",
   "id": "e616756e",
   "metadata": {},
   "source": [
    "### Balancing the data\n"
   ]
  },
  {
   "cell_type": "code",
   "execution_count": null,
   "id": "1f3989ac",
   "metadata": {},
   "outputs": [],
   "source": [
    "from imblearn.over_sampling import SMOTE"
   ]
  },
  {
   "cell_type": "code",
   "execution_count": null,
   "id": "3c81b0f2",
   "metadata": {},
   "outputs": [],
   "source": [
    "x = cust_data_new.loc[:,cust_data_new.columns.difference(['CLTV'])]\n",
    "y = cust_data_new.CLTV"
   ]
  },
  {
   "cell_type": "code",
   "execution_count": null,
   "id": "72117ccc",
   "metadata": {},
   "outputs": [],
   "source": [
    "#balancing the data\n",
    "sm = SMOTE()\n",
    "resampled_X, resampled_y = sm.fit_resample(x, y)"
   ]
  },
  {
   "cell_type": "code",
   "execution_count": null,
   "id": "6c451e4e",
   "metadata": {},
   "outputs": [],
   "source": [
    "resampled_y.value_counts()"
   ]
  },
  {
   "cell_type": "code",
   "execution_count": null,
   "id": "d3a3ced7",
   "metadata": {},
   "outputs": [],
   "source": [
    "cust_data_new2 = pd.concat([resampled_X, resampled_y], axis=1)"
   ]
  },
  {
   "cell_type": "code",
   "execution_count": null,
   "id": "a12ac9cd",
   "metadata": {},
   "outputs": [],
   "source": [
    "cust_data_new2.head(2)"
   ]
  },
  {
   "cell_type": "code",
   "execution_count": null,
   "id": "56de39fd",
   "metadata": {},
   "outputs": [],
   "source": [
    "cust_data_new2.rename(columns={'Location_New Jersey':'Location_New_Jersey',\n",
    "                               'Location_New York':'Location_New_York',\n",
    "                               'Location_Washington DC':'Location_Washington_DC'},inplace=True)"
   ]
  },
  {
   "cell_type": "markdown",
   "id": "3051b2d9",
   "metadata": {},
   "source": [
    "### Feature selection based on importance using F - Regression"
   ]
  },
  {
   "cell_type": "code",
   "execution_count": null,
   "id": "1f39663f",
   "metadata": {},
   "outputs": [],
   "source": [
    "# Feature Selection based on importance\n",
    "from sklearn.feature_selection import f_regression"
   ]
  },
  {
   "cell_type": "code",
   "execution_count": null,
   "id": "d746bd9f",
   "metadata": {},
   "outputs": [],
   "source": [
    "# splitting the data: separate out the feature/input/independant columns and dependant variable\n",
    "feature_columns = cust_data_new2.columns.difference(['CLTV','CustomerID'])\n",
    "feature_columns"
   ]
  },
  {
   "cell_type": "code",
   "execution_count": null,
   "id": "d40f9142",
   "metadata": {},
   "outputs": [],
   "source": [
    "# seperate the X and y columns\n",
    "features = cust_data_new2[feature_columns]\n",
    "target = cust_data_new2.CLTV\n",
    "\n",
    "# do the f_regression\n",
    "F_values, p_values  = f_regression( features, target )"
   ]
  },
  {
   "cell_type": "code",
   "execution_count": null,
   "id": "faa326b4",
   "metadata": {},
   "outputs": [],
   "source": [
    "# combine the output in dataframe\n",
    "F_regression_op = pd.DataFrame([feature_columns, F_values.round(2), p_values.round(4)]).T\n",
    "\n",
    "# add the column names\n",
    "F_regression_op.columns = ['Features', 'F_values', 'p_values' ]\n",
    "F_regression_op"
   ]
  },
  {
   "cell_type": "code",
   "execution_count": null,
   "id": "33bf61d6",
   "metadata": {},
   "outputs": [],
   "source": [
    "# output of the f_regression\n",
    "feature_columns = list( F_regression_op.loc[ F_regression_op.p_values <= 0.1, 'Features' ] )"
   ]
  },
  {
   "cell_type": "code",
   "execution_count": null,
   "id": "2ed9771f",
   "metadata": {},
   "outputs": [],
   "source": [
    "print('No. of feature = ' ,len(feature_columns))\n",
    "print(feature_columns)"
   ]
  },
  {
   "cell_type": "markdown",
   "id": "75b500dc",
   "metadata": {},
   "source": [
    "#### VIF (Variance Inflation Factor): Check the multicollinieirity for all the variables in the model\n"
   ]
  },
  {
   "cell_type": "code",
   "execution_count": null,
   "id": "1eb3d65a",
   "metadata": {},
   "outputs": [],
   "source": [
    "# import the packages for vif\n",
    "from statsmodels.stats.outliers_influence import variance_inflation_factor\n",
    "from patsy import dmatrices"
   ]
  },
  {
   "cell_type": "code",
   "execution_count": null,
   "id": "9df064d0",
   "metadata": {},
   "outputs": [],
   "source": [
    "model_param = 'CLTV ~ ' + ' + '.join(feature_columns)\n",
    "model_param"
   ]
  },
  {
   "cell_type": "code",
   "execution_count": null,
   "id": "57e3c5bc",
   "metadata": {},
   "outputs": [],
   "source": [
    "# separate the Y and X variables\n",
    "y, X = dmatrices( model_param, cust_data_new2, return_type = 'dataframe' )\n",
    "\n",
    "# For each X, calculate VIF and save in dataframe\n",
    "vif = pd.DataFrame()\n",
    "\n",
    "vif['Features'] = X.columns\n",
    "vif['VIF Factor'] = [ variance_inflation_factor(X.values, i) for i in range(X.shape[1]) ]\n",
    "\n",
    "# display the output\n",
    "vif.round(1)"
   ]
  },
  {
   "cell_type": "code",
   "execution_count": null,
   "id": "b9a43cab",
   "metadata": {},
   "outputs": [],
   "source": [
    "#Selecting the feature columns with vif <= 5\n",
    "feature_columns = list( vif.loc[ vif['VIF Factor'] <= 5, 'Features' ] )\n",
    "print('No. of feature_columns = ', len(feature_columns))\n",
    "feature_columns"
   ]
  },
  {
   "cell_type": "markdown",
   "id": "c737e7cf",
   "metadata": {},
   "source": [
    "## Building model\n"
   ]
  },
  {
   "cell_type": "code",
   "execution_count": null,
   "id": "f061c991",
   "metadata": {},
   "outputs": [],
   "source": [
    "#importing package\n",
    "from sklearn.model_selection import train_test_split\n",
    "\n",
    "#Considering Significant Variables for Machine Learning algorithms\n",
    "train_x, test_x, train_y, test_y = train_test_split(cust_data_new2[feature_columns],cust_data_new2.CLTV, test_size=0.3, random_state=111)"
   ]
  },
  {
   "cell_type": "markdown",
   "id": "a6ff7f1c",
   "metadata": {},
   "source": [
    "## Decision Trees\n"
   ]
  },
  {
   "cell_type": "code",
   "execution_count": null,
   "id": "6274339c",
   "metadata": {},
   "outputs": [],
   "source": [
    "#Importing packages\n",
    "from sklearn.tree import DecisionTreeClassifier, export_graphviz, export"
   ]
  },
  {
   "cell_type": "code",
   "execution_count": null,
   "id": "4d461885",
   "metadata": {},
   "outputs": [],
   "source": [
    "#Model building\n",
    "param_grid = {'max_depth': np.arange(2, 50),\n",
    "             'max_features': np.arange(4,100)}\n",
    "data_tree = GridSearchCV(DecisionTreeClassifier(), param_grid, cv = 3,n_jobs=-1, verbose=True)\n",
    "data_tree.fit(train_x,train_y)"
   ]
  },
  {
   "cell_type": "code",
   "execution_count": null,
   "id": "e9a1ae28",
   "metadata": {},
   "outputs": [],
   "source": [
    "print('Best parameters : ',data_tree.best_params_)\n",
    "print('Accuracy : ' ,data_tree.best_score_)"
   ]
  },
  {
   "cell_type": "code",
   "execution_count": null,
   "id": "bece7b02",
   "metadata": {},
   "outputs": [],
   "source": [
    "#checking accuracy for trian data\n",
    "print(metrics.classification_report(train_y,data_tree.predict(train_x)))"
   ]
  },
  {
   "cell_type": "code",
   "execution_count": null,
   "id": "e8724d35",
   "metadata": {},
   "outputs": [],
   "source": [
    "#checking accuracy for trian data\n",
    "print(metrics.classification_report(test_y,data_tree.predict(test_x)))"
   ]
  },
  {
   "cell_type": "markdown",
   "id": "a12d97c9",
   "metadata": {},
   "source": [
    "#### Decision Tree model is giving 77% accuracy for Test Data\n"
   ]
  },
  {
   "cell_type": "markdown",
   "id": "525244b7",
   "metadata": {},
   "source": [
    "## XGBOOST MODEL\n"
   ]
  },
  {
   "cell_type": "code",
   "execution_count": null,
   "id": "91ad0e83",
   "metadata": {},
   "outputs": [],
   "source": [
    "#Importing Required packages\n",
    "import xgboost"
   ]
  },
  {
   "cell_type": "code",
   "execution_count": null,
   "id": "06174dce",
   "metadata": {},
   "outputs": [],
   "source": [
    "pargrid_xg = {'n_estimators': [60,70,80,90,100],\n",
    "               'max_depth':[2,3,4,5,6,7,8,9,10]}\n",
    "\n",
    "gscv_xg = GridSearchCV(estimator=xgboost.XGBClassifier(), \n",
    "                        param_grid=pargrid_xg, \n",
    "                        cv=3,n_jobs=-1, verbose=1)\n",
    "\n",
    "data_xg=gscv_xg.fit(train_x, train_y)"
   ]
  },
  {
   "cell_type": "code",
   "execution_count": null,
   "id": "d0d0db46",
   "metadata": {},
   "outputs": [],
   "source": [
    "print('Best score : ' ,gscv_xg.best_params_)\n",
    "print('Accuracy : ', gscv_xg.best_score_)"
   ]
  },
  {
   "cell_type": "code",
   "execution_count": null,
   "id": "fc5016e7",
   "metadata": {},
   "outputs": [],
   "source": [
    "#checking accuracy for trian data\n",
    "print(metrics.classification_report(train_y,data_tree.predict(train_x)))"
   ]
  },
  {
   "cell_type": "code",
   "execution_count": null,
   "id": "083d6f18",
   "metadata": {},
   "outputs": [],
   "source": [
    "#checking accuracy for trian data\n",
    "print(metrics.classification_report(test_y,gscv_xg.predict(test_x)))"
   ]
  },
  {
   "cell_type": "markdown",
   "id": "94bba029",
   "metadata": {},
   "source": [
    "#### Xgboost Model is giving 75% accuracy on Test data\n"
   ]
  },
  {
   "cell_type": "markdown",
   "id": "f82c83cf",
   "metadata": {},
   "source": [
    "## 5. Cross-Selling\n"
   ]
  },
  {
   "cell_type": "code",
   "execution_count": null,
   "id": "2aba6d35",
   "metadata": {},
   "outputs": [],
   "source": [
    "#Importing packages\n",
    "from mlxtend.frequent_patterns import apriori\n",
    "from mlxtend.frequent_patterns import association_rules"
   ]
  },
  {
   "cell_type": "code",
   "execution_count": null,
   "id": "25e9ec6a",
   "metadata": {},
   "outputs": [],
   "source": [
    "online_sales.head(2)"
   ]
  },
  {
   "cell_type": "code",
   "execution_count": null,
   "id": "70b82dd7",
   "metadata": {},
   "outputs": [],
   "source": [
    "online_sales.Product_Description.value_counts()"
   ]
  },
  {
   "cell_type": "code",
   "execution_count": null,
   "id": "8cd494eb",
   "metadata": {},
   "outputs": [],
   "source": [
    "# Clean up spaces in description \n",
    "online_sales['Product_Description'] = online_sales['Product_Description'].str.strip()"
   ]
  },
  {
   "cell_type": "code",
   "execution_count": null,
   "id": "78a4592b",
   "metadata": {},
   "outputs": [],
   "source": [
    "#To keeping data set is small, Filtering the data for only one country - France\n",
    "basket =online_sales.groupby(['CustomerID', 'Product_Description'])['Quantity'].sum().unstack().reset_index().fillna(0).set_index('CustomerID')"
   ]
  },
  {
   "cell_type": "code",
   "execution_count": null,
   "id": "8f4d2343",
   "metadata": {},
   "outputs": [],
   "source": [
    "basket.head()"
   ]
  },
  {
   "cell_type": "code",
   "execution_count": null,
   "id": "eca8d074",
   "metadata": {},
   "outputs": [],
   "source": [
    "#we need to consolidate the items into 1 transaction per row with each product 1 hot encoded.\n",
    "# Convert the units to 1 hot encoded values\n",
    "def encode_units(x):\n",
    "    if x <= 0:\n",
    "        return 0\n",
    "    if x >= 1:\n",
    "        return 1  "
   ]
  },
  {
   "cell_type": "code",
   "execution_count": null,
   "id": "5fb2e9e5",
   "metadata": {},
   "outputs": [],
   "source": [
    "basket_sets = basket.applymap(encode_units)"
   ]
  },
  {
   "cell_type": "code",
   "execution_count": null,
   "id": "b6387bd6",
   "metadata": {},
   "outputs": [],
   "source": [
    "basket_sets.head(2)"
   ]
  },
  {
   "cell_type": "code",
   "execution_count": null,
   "id": "8d0107bf",
   "metadata": {},
   "outputs": [],
   "source": [
    "# Build up the frequent items\n",
    "#Now that the data is structured properly, we can generate frequent item sets that have a support of \n",
    "#at least 7% (this number was chosen so that I could get enough useful examples):\n",
    "frequent_itemsets = apriori(basket_sets, min_support=0.2, use_colnames=True)"
   ]
  },
  {
   "cell_type": "code",
   "execution_count": null,
   "id": "a495577a",
   "metadata": {},
   "outputs": [],
   "source": [
    "frequent_itemsets.sort_values(by='support', ascending=False)"
   ]
  },
  {
   "cell_type": "code",
   "execution_count": null,
   "id": "0e6bc111",
   "metadata": {},
   "outputs": [],
   "source": [
    "rules1 = association_rules(frequent_itemsets, metric=\"confidence\", min_threshold=0.5)\n",
    "rules1"
   ]
  },
  {
   "cell_type": "code",
   "execution_count": null,
   "id": "9e12c790",
   "metadata": {},
   "outputs": [],
   "source": [
    "#Generate the rules with their corresponding support, confidence and lift:\n",
    "rules = association_rules(frequent_itemsets, metric=\"lift\", min_threshold=1)\n",
    "rules"
   ]
  },
  {
   "cell_type": "code",
   "execution_count": null,
   "id": "1ed58731",
   "metadata": {},
   "outputs": [],
   "source": [
    "rules.sort_values(by='confidence', ascending=False )"
   ]
  },
  {
   "cell_type": "code",
   "execution_count": null,
   "id": "2fdd13d7",
   "metadata": {},
   "outputs": [],
   "source": [
    "# Filtering the dataframe . In this case, look for a lift of >=1 and high confidence of >=0.9:\n",
    "rules[ (rules['lift'] >= 1) &\n",
    "       (rules['confidence'] >= 0.9) ]"
   ]
  },
  {
   "cell_type": "markdown",
   "id": "413debcb",
   "metadata": {},
   "source": [
    "## 6. Predicting next purchase day\n"
   ]
  },
  {
   "cell_type": "code",
   "execution_count": null,
   "id": "03ef8f5e",
   "metadata": {},
   "outputs": [],
   "source": [
    "cust_month3.head(2)"
   ]
  },
  {
   "cell_type": "code",
   "execution_count": null,
   "id": "c08a8ff3",
   "metadata": {},
   "outputs": [],
   "source": [
    "cust_next_purchased = cust_month3\n",
    "cust_next_purchased = cust_next_purchased.rename(columns={'days_diff':'next_purchased'} )\n",
    "cust_next_purchased.head()"
   ]
  },
  {
   "cell_type": "code",
   "execution_count": null,
   "id": "92de7f86",
   "metadata": {},
   "outputs": [],
   "source": [
    "cust_next_purchased =  cust_next_purchased.groupby('CustomerID')['next_purchased'].mean().reset_index()\n",
    "cust_next_purchased"
   ]
  },
  {
   "cell_type": "code",
   "execution_count": null,
   "id": "6c377f02",
   "metadata": {},
   "outputs": [],
   "source": [
    "def purchased_day (x):\n",
    "    if x.next_purchased <= 30 :   # Purchased days btw 0-30 = 0\n",
    "        return 0                        \n",
    "    elif x.next_purchased <= 60:  # Purchased days btw 30-60 = 1\n",
    "        return 1                     \n",
    "    elif x.next_purchased <= 90:  # Purchased days btw 60-90 = 2\n",
    "        return 2\n",
    "    else :                        # Purchased days of 90+ = 3\n",
    "        return 3"
   ]
  },
  {
   "cell_type": "code",
   "execution_count": null,
   "id": "f5ee4c19",
   "metadata": {},
   "outputs": [],
   "source": [
    "cust_next_purchased['next_purchased'] = cust_next_purchased.apply(purchased_day, axis=1)"
   ]
  },
  {
   "cell_type": "code",
   "execution_count": null,
   "id": "af4308bb",
   "metadata": {},
   "outputs": [],
   "source": [
    "cust_next_purchased.head()"
   ]
  },
  {
   "cell_type": "code",
   "execution_count": null,
   "id": "45dafcbd",
   "metadata": {},
   "outputs": [],
   "source": [
    "# Merging data sets\n",
    "\n",
    "cust_next_purchased = pd.merge(cust_next_purchased, seg_df1 , on='CustomerID' , how='left')\n",
    "cust_next_purchased = pd.merge(cust_data, cust_next_purchased, on='CustomerID', how= 'left' )\n",
    "cust_next_purchased.head()"
   ]
  },
  {
   "cell_type": "code",
   "execution_count": null,
   "id": "fe6ce453",
   "metadata": {},
   "outputs": [],
   "source": [
    "# Creating dummie variables\n",
    "\n",
    "cust_next_purchased = pd.get_dummies(cust_next_purchased, columns=['R_seg'], drop_first=True, prefix='R_seg')\n",
    "cust_next_purchased = pd.get_dummies(cust_next_purchased, columns=['FM_seg'], drop_first=True, prefix='FM_seg')\n",
    "cust_next_purchased = pd.get_dummies(cust_next_purchased, columns=['Location'], drop_first=True, prefix='Location')\n",
    "cust_next_purchased = pd.get_dummies(cust_next_purchased, columns=['Gender'], drop_first=True, prefix='Gender')"
   ]
  },
  {
   "cell_type": "code",
   "execution_count": null,
   "id": "e568572a",
   "metadata": {},
   "outputs": [],
   "source": [
    "cust_next_purchased.head()"
   ]
  },
  {
   "cell_type": "code",
   "execution_count": null,
   "id": "5734820c",
   "metadata": {},
   "outputs": [],
   "source": [
    "# Rename the columns to correct format\n",
    "cust_next_purchased.rename(columns={'Location_New Jersey':'Location_New_Jersey',\n",
    "                               'Location_New York':'Location_New_York',\n",
    "                               'Location_Washington DC':'Location_Washington_DC'},inplace=True)\n"
   ]
  },
  {
   "cell_type": "code",
   "execution_count": null,
   "id": "8d844e23",
   "metadata": {},
   "outputs": [],
   "source": [
    "cust_next_purchased.next_purchased.value_counts()"
   ]
  },
  {
   "cell_type": "markdown",
   "id": "3802ad01",
   "metadata": {},
   "source": [
    "### Balancing the data\n"
   ]
  },
  {
   "cell_type": "code",
   "execution_count": null,
   "id": "d0dd899f",
   "metadata": {},
   "outputs": [],
   "source": [
    "x = cust_next_purchased.loc[:,cust_next_purchased.columns.difference(['next_purchased'])]\n",
    "y = cust_next_purchased.next_purchased"
   ]
  },
  {
   "cell_type": "code",
   "execution_count": null,
   "id": "fdd947c1",
   "metadata": {},
   "outputs": [],
   "source": [
    "#balancing the data\n",
    "sm = SMOTE()\n",
    "resampled_X, resampled_y = sm.fit_resample(x, y)"
   ]
  },
  {
   "cell_type": "code",
   "execution_count": null,
   "id": "ad6e292e",
   "metadata": {},
   "outputs": [],
   "source": [
    "cust_next_purchased = pd.concat([resampled_X,resampled_y], axis=1)"
   ]
  },
  {
   "cell_type": "code",
   "execution_count": null,
   "id": "1f7819d8",
   "metadata": {},
   "outputs": [],
   "source": [
    "cust_next_purchased.next_purchased.value_counts()"
   ]
  },
  {
   "cell_type": "code",
   "execution_count": null,
   "id": "954fc6ac",
   "metadata": {},
   "outputs": [],
   "source": [
    "cust_next_purchased.columns.difference(['next_purchased'])"
   ]
  },
  {
   "cell_type": "markdown",
   "id": "36804b44",
   "metadata": {},
   "source": [
    "### Feature selection based on importance using F - Regression\n"
   ]
  },
  {
   "cell_type": "code",
   "execution_count": null,
   "id": "b0b51e51",
   "metadata": {},
   "outputs": [],
   "source": [
    "# splitting the data: separate out the feature/input/independant columns and dependant variable\n",
    "feature_columns = cust_next_purchased.columns.difference(['next_purchased','CustomerID'])\n",
    "feature_columns"
   ]
  },
  {
   "cell_type": "code",
   "execution_count": null,
   "id": "ab081d83",
   "metadata": {},
   "outputs": [],
   "source": [
    "# seperate the X and y columns\n",
    "features = cust_next_purchased[feature_columns]\n",
    "target = cust_next_purchased.next_purchased\n",
    "\n",
    "# do the f_regression\n",
    "F_values, p_values  = f_regression( features, target )"
   ]
  },
  {
   "cell_type": "code",
   "execution_count": null,
   "id": "33ce31ee",
   "metadata": {},
   "outputs": [],
   "source": [
    "# combine the output in dataframe\n",
    "F_regression_op = pd.DataFrame([feature_columns, F_values.round(2), p_values.round(4)]).T\n",
    "\n",
    "# add the column names\n",
    "F_regression_op.columns = ['Features', 'F_values', 'p_values' ]\n",
    "F_regression_op"
   ]
  },
  {
   "cell_type": "code",
   "execution_count": null,
   "id": "0f5aa829",
   "metadata": {},
   "outputs": [],
   "source": [
    "# output of the f_regression\n",
    "feature_columns = list( F_regression_op.loc[ F_regression_op.p_values <= 0.1, 'Features' ] )"
   ]
  },
  {
   "cell_type": "code",
   "execution_count": null,
   "id": "afb1a589",
   "metadata": {},
   "outputs": [],
   "source": [
    "print('No. of feature = ' ,len(feature_columns))\n",
    "print(feature_columns)"
   ]
  },
  {
   "cell_type": "markdown",
   "id": "7baed0f7",
   "metadata": {},
   "source": [
    "## VIF (Variance Inflation Factor): Check the multicollinieirity for all the variables in the model\n"
   ]
  },
  {
   "cell_type": "code",
   "execution_count": null,
   "id": "b00c1a0a",
   "metadata": {},
   "outputs": [],
   "source": [
    "# Feature Selection based on importance\n",
    "from sklearn.feature_selection import f_regression"
   ]
  },
  {
   "cell_type": "code",
   "execution_count": null,
   "id": "f9d42a31",
   "metadata": {},
   "outputs": [],
   "source": [
    "model_param = 'next_purchased ~ ' + ' + '.join(feature_columns)\n",
    "model_param"
   ]
  },
  {
   "cell_type": "code",
   "execution_count": null,
   "id": "d2625668",
   "metadata": {},
   "outputs": [],
   "source": [
    "# separate the Y and X variables\n",
    "y, X = dmatrices( model_param, cust_next_purchased, return_type = 'dataframe' )\n",
    "\n",
    "# For each X, calculate VIF and save in dataframe\n",
    "vif = pd.DataFrame()\n",
    "\n",
    "vif['Features'] = X.columns\n",
    "vif['VIF Factor'] = [ variance_inflation_factor(X.values, i) for i in range(X.shape[1]) ]\n",
    "\n",
    "# display the output\n",
    "vif.round(1)"
   ]
  },
  {
   "cell_type": "code",
   "execution_count": null,
   "id": "8d66afc8",
   "metadata": {},
   "outputs": [],
   "source": [
    "features = list( vif.loc[ vif['VIF Factor'] <= 5, 'Features' ] )\n",
    "features"
   ]
  },
  {
   "cell_type": "markdown",
   "id": "310661fe",
   "metadata": {},
   "source": [
    "### Model building\n"
   ]
  },
  {
   "cell_type": "code",
   "execution_count": null,
   "id": "c3ffaea2",
   "metadata": {},
   "outputs": [],
   "source": [
    "#Considering Significant Variables for Machine Learning algorithms\n",
    "\n",
    "train_x, test_x, train_y, test_y = train_test_split(cust_next_purchased[feature_columns],cust_next_purchased.next_purchased, test_size=0.3, random_state=111)"
   ]
  },
  {
   "cell_type": "markdown",
   "id": "e325236e",
   "metadata": {},
   "source": [
    "### Decision Trees\n"
   ]
  },
  {
   "cell_type": "code",
   "execution_count": null,
   "id": "2407d96e",
   "metadata": {},
   "outputs": [],
   "source": [
    "#Model building\n",
    "param_grid1 = {'max_depth': np.arange(2, 50),\n",
    "             'max_features': np.arange(4,100)}\n",
    "data_tree1 = GridSearchCV(DecisionTreeClassifier(), param_grid1, cv = 3,n_jobs=-1, verbose=True)\n",
    "data_tree1.fit(train_x,train_y)"
   ]
  },
  {
   "cell_type": "code",
   "execution_count": null,
   "id": "cc262ad3",
   "metadata": {},
   "outputs": [],
   "source": [
    "print('Best parameters : ',data_tree1.best_params_)\n",
    "print('Accuracy : ' ,data_tree1.best_score_)"
   ]
  },
  {
   "cell_type": "code",
   "execution_count": null,
   "id": "dc8efe65",
   "metadata": {},
   "outputs": [],
   "source": [
    "#checking accuracy for trian data\n",
    "print(metrics.classification_report(train_y,data_tree1.predict(train_x)))"
   ]
  },
  {
   "cell_type": "code",
   "execution_count": null,
   "id": "cc71a6ca",
   "metadata": {},
   "outputs": [],
   "source": [
    "#checking accuracy for trian data\n",
    "print(metrics.classification_report(test_y,data_tree1.predict(test_x)))"
   ]
  },
  {
   "cell_type": "markdown",
   "id": "443bdbae",
   "metadata": {},
   "source": [
    "#### Decision Tree model is giving 73% accuracy on Test Data\n"
   ]
  },
  {
   "cell_type": "markdown",
   "id": "4ab833f4",
   "metadata": {},
   "source": [
    "### xgboost\n"
   ]
  },
  {
   "cell_type": "code",
   "execution_count": null,
   "id": "9e348203",
   "metadata": {},
   "outputs": [],
   "source": [
    "#Importing packages\n",
    "from sklearn.tree import DecisionTreeClassifier, export_graphviz, export"
   ]
  },
  {
   "cell_type": "code",
   "execution_count": null,
   "id": "0277dbf8",
   "metadata": {},
   "outputs": [],
   "source": [
    "pargrid_xg1 = {'n_estimators': [60,70,80,90,100],\n",
    "               'max_depth':[2,3,4,5,6,7,8,9,10]}\n",
    "\n",
    "gscv_xg1 = GridSearchCV(estimator=xgboost.XGBClassifier(), \n",
    "                        param_grid=pargrid_xg, \n",
    "                        cv=3,n_jobs=-1, verbose=1)\n",
    "\n",
    "data_xg1=gscv_xg1.fit(train_x, train_y)"
   ]
  },
  {
   "cell_type": "code",
   "execution_count": null,
   "id": "0099bcad",
   "metadata": {},
   "outputs": [],
   "source": [
    "print('Best score : ' ,gscv_xg1.best_params_)\n",
    "print('Accuracy : ', gscv_xg1.best_score_)"
   ]
  },
  {
   "cell_type": "code",
   "execution_count": null,
   "id": "b8cab7f8",
   "metadata": {},
   "outputs": [],
   "source": [
    "#checking accuracy for trian data\n",
    "print(metrics.classification_report(train_y,gscv_xg1.predict(train_x)))"
   ]
  },
  {
   "cell_type": "code",
   "execution_count": null,
   "id": "76428bf1",
   "metadata": {},
   "outputs": [],
   "source": [
    "#checking accuracy for trian data\n",
    "print(metrics.classification_report(test_y,gscv_xg1.predict(test_x)))"
   ]
  },
  {
   "cell_type": "markdown",
   "id": "5c2da7fd",
   "metadata": {},
   "source": [
    "#### XGboost model is giving 82% Accuracy on Test data\n"
   ]
  },
  {
   "cell_type": "markdown",
   "id": "953eaa1b",
   "metadata": {},
   "source": [
    "## 7. Cohort Analysis\n"
   ]
  },
  {
   "cell_type": "code",
   "execution_count": null,
   "id": "7c46470d",
   "metadata": {},
   "outputs": [],
   "source": [
    "online_sales.head(2)"
   ]
  },
  {
   "cell_type": "code",
   "execution_count": null,
   "id": "4bf14382",
   "metadata": {},
   "outputs": [],
   "source": [
    "online_sales['total_sales'] = online_sales.Quantity * online_sales.Avg_Price\n",
    "online_sales['Transaction_Date'] = pd.to_datetime(online_sales['Transaction_Date'] , format = '%Y%m%d')\n",
    "online_sales['Transaction_month']=online_sales.Transaction_Date.apply(lambda x:x.strftime('%Y-%m'))\n",
    "online_sales.head(2)"
   ]
  },
  {
   "cell_type": "code",
   "execution_count": null,
   "id": "b0aa713c",
   "metadata": {},
   "outputs": [],
   "source": [
    "online_sales.set_index('CustomerID', inplace=True)\n",
    "\n",
    "online_sales['CohortGroup'] = online_sales.groupby(level=0)['Transaction_Date'].min().apply(lambda x: x.strftime('%Y-%m'))\n",
    "online_sales.reset_index(inplace=True)\n",
    "online_sales.head()"
   ]
  },
  {
   "cell_type": "code",
   "execution_count": null,
   "id": "b1c8e9b8",
   "metadata": {},
   "outputs": [],
   "source": [
    "datagrouped = online_sales.groupby(['CohortGroup', 'Transaction_month'])\n",
    "\n",
    "cohorts = datagrouped.agg({'CustomerID': pd.Series.nunique,\n",
    "                       'Transaction_ID': pd.Series.nunique,\n",
    "                        'total_sales': pd.Series.sum})\n",
    "\n",
    "cohorts.rename(columns={'CustomerID': 'Total_Users',\n",
    "                        'Transaction_ID': 'Total_orders','total_sales':'Revenue'}, inplace=True)\n",
    "cohorts.head()"
   ]
  },
  {
   "cell_type": "code",
   "execution_count": null,
   "id": "0c5d347d",
   "metadata": {},
   "outputs": [],
   "source": [
    "def cohort_period(online_sales):\n",
    "    \n",
    "    online_sales['CohortPeriod'] = np.arange(len(online_sales)) + 1\n",
    "    return online_sales\n",
    "\n",
    "cohorts = cohorts.groupby(level=0).apply(cohort_period)\n",
    "cohorts.head()"
   ]
  },
  {
   "cell_type": "code",
   "execution_count": null,
   "id": "2a890d07",
   "metadata": {},
   "outputs": [],
   "source": [
    "cohorts.reset_index(inplace=True)\n",
    "cohorts.set_index(['CohortGroup', 'CohortPeriod'], inplace=True)\n",
    "\n",
    "cohort_group_size = cohorts['Total_Users'].groupby(level=0).first()\n",
    "cohort_group_size.head()"
   ]
  },
  {
   "cell_type": "code",
   "execution_count": null,
   "id": "aabdfde2",
   "metadata": {},
   "outputs": [],
   "source": [
    "cohorts['Total_Users'].unstack(0).head()"
   ]
  },
  {
   "cell_type": "code",
   "execution_count": null,
   "id": "b7e60004",
   "metadata": {},
   "outputs": [],
   "source": [
    "cust_retention = cohorts['Total_Users'].unstack(0).divide(cohort_group_size, axis=1)\n",
    "cust_retention"
   ]
  },
  {
   "cell_type": "code",
   "execution_count": null,
   "id": "662cc057",
   "metadata": {},
   "outputs": [],
   "source": [
    "plt.figure(figsize=(15,8))\n",
    "plt.title('Retention by Monthly Cohorts')\n",
    "sns.heatmap(data=cust_retention,\n",
    "            annot = True,\n",
    "            cmap = \"Greens\",\n",
    "            vmin = 0.0,\n",
    "            vmax = list(cust_retention.max().sort_values(ascending = False))[1]+3,\n",
    "            fmt = '.1f',\n",
    "            linewidth = 0.3)\n",
    "\n",
    "plt.savefig(\"Retention By Monthly Cohorts\")\n",
    "plt.show()"
   ]
  },
  {
   "cell_type": "code",
   "execution_count": null,
   "id": "83cc5331",
   "metadata": {},
   "outputs": [],
   "source": []
  },
  {
   "cell_type": "code",
   "execution_count": null,
   "id": "ef11734f",
   "metadata": {},
   "outputs": [],
   "source": []
  },
  {
   "cell_type": "code",
   "execution_count": null,
   "id": "67283556",
   "metadata": {},
   "outputs": [],
   "source": []
  },
  {
   "cell_type": "code",
   "execution_count": null,
   "id": "0473ae3e",
   "metadata": {},
   "outputs": [],
   "source": []
  },
  {
   "cell_type": "code",
   "execution_count": null,
   "id": "f97d2fa5",
   "metadata": {},
   "outputs": [],
   "source": []
  }
 ],
 "metadata": {
  "kernelspec": {
   "display_name": "Python 3 (ipykernel)",
   "language": "python",
   "name": "python3"
  },
  "language_info": {
   "codemirror_mode": {
    "name": "ipython",
    "version": 3
   },
   "file_extension": ".py",
   "mimetype": "text/x-python",
   "name": "python",
   "nbconvert_exporter": "python",
   "pygments_lexer": "ipython3",
   "version": "3.9.12"
  }
 },
 "nbformat": 4,
 "nbformat_minor": 5
}
